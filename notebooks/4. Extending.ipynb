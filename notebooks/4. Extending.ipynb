{
 "cells": [
  {
   "cell_type": "code",
   "execution_count": 1,
   "metadata": {},
   "outputs": [],
   "source": [
    "%cd .."
   ]
  },
  {
   "cell_type": "code",
   "execution_count": 51,
   "metadata": {},
   "outputs": [],
   "source": [
    "import torch\n",
    "from tqdm.auto import tqdm\n",
    "import itertools\n",
    "import numpy as np\n",
    "from torch.utils.data import DataLoader\n",
    "import itertools\n",
    "\n",
    "from recoexplainer.utils.torch_utils import use_optimizer\n",
    "from recoexplainer.data_reader import DataReader\n",
    "from recoexplainer.config import cfg\n",
    "from recoexplainer.models import PyTorchModel\n",
    "from recoexplainer.data_reader.user_item_rating_dataset import UserItemRatingDataset\n",
    "from recoexplainer.recommender import Recommender \n",
    "from recoexplainer.evaluator import Splitter, Evaluator, ExplanationEvaluator\n",
    "from recoexplainer.explain import ARPostHocExplainer, KNNPostHocExplainer"
   ]
  },
  {
   "cell_type": "code",
   "execution_count": 46,
   "metadata": {},
   "outputs": [],
   "source": [
    "class MFModel(torch.nn.Module):\n",
    "\n",
    "    def __init__(self,\n",
    "                 learning_rate: int,\n",
    "                 weight_decay: int,\n",
    "                 latent_dim: int,\n",
    "                 epochs: int,\n",
    "                 batch_size: int,\n",
    "                 device_id=None):\n",
    "        \n",
    "        super().__init__()\n",
    "        \n",
    "        self.weight_decay = weight_decay\n",
    "        self.latent_dim = latent_dim\n",
    "        self.learning_rate = learning_rate\n",
    "        self.epochs = epochs\n",
    "        self.batch_size = batch_size\n",
    "        \n",
    "        self.criterion = torch.nn.MSELoss()\n",
    "        \n",
    "    def forward(self, user_indices, item_indices):\n",
    "        \n",
    "        user_embeddings = self.embedding_user(user_indices)\n",
    "        item_embeddings = self.embedding_item(item_indices)\n",
    "        return (user_embeddings * item_embeddings).sum(1)\n",
    "        \n",
    "    def fit(self, dataset_metadata):\n",
    "        \n",
    "        self.embedding_user = torch.nn.Embedding(\n",
    "            num_embeddings=dataset_metadata.num_user,\n",
    "            embedding_dim=self.latent_dim)\n",
    "\n",
    "        self.embedding_item = torch.nn.Embedding(\n",
    "            num_embeddings=dataset_metadata.num_item,\n",
    "            embedding_dim=self.latent_dim)\n",
    "        \n",
    "        self.optimizer = torch.optim.SGD(self.parameters(), \n",
    "                                         lr=self.learning_rate, \n",
    "                                         weight_decay=self.weight_decay)\n",
    "\n",
    "        \n",
    "        dataset = UserItemRatingDataset(user_tensor=torch.LongTensor(dataset_metadata.dataset.userId),\n",
    "                                        item_tensor=torch.LongTensor(dataset_metadata.dataset.itemId),\n",
    "                                        target_tensor=torch.FloatTensor(dataset_metadata.dataset.rating))\n",
    "        \n",
    "        with tqdm(total=self.epochs) as progress:\n",
    "            for epoch in range(self.epochs):\n",
    "                \n",
    "                data = DataLoader(dataset, batch_size=self.batch_size, shuffle=True)\n",
    "                tot_loss = 0\n",
    "                cnt = 0\n",
    "                for _, batch in enumerate(data):\n",
    "                    \n",
    "                    self.optimizer.zero_grad()\n",
    "                    \n",
    "                    user, item, rating = batch[0], batch[1], batch[2]\n",
    "                    \n",
    "                    prediction = self(user, item)\n",
    "                    loss = self.criterion(prediction, rating)\n",
    "                    loss.backward()\n",
    "                    self.optimizer.step()\n",
    "                    tot_loss += loss.item()\n",
    "                    cnt += 1\n",
    "            \n",
    "                progress.update(1)\n",
    "                progress.set_postfix({\"MSE\": tot_loss/cnt})\n",
    "        \n",
    "        return True\n",
    "    \n",
    "    def predict(self, user_id, item_id):\n",
    "        if type(user_id) == 'int':\n",
    "            user_id = [user_id]\n",
    "        if type(item_id) == 'int':\n",
    "            item_id = [item_id]\n",
    "        user_id = torch.LongTensor([user_id])\n",
    "        item_id = torch.LongTensor(item_id)\n",
    "        with torch.no_grad():\n",
    "            pred = self.forward(user_id, item_id).cpu().tolist()\n",
    "            return pred\n"
   ]
  },
  {
   "cell_type": "code",
   "execution_count": 69,
   "metadata": {},
   "outputs": [],
   "source": [
    "mf = MFModel(latent_dim=100, \n",
    "        epochs=100,\n",
    "        learning_rate=.01, \n",
    "        weight_decay=.001,\n",
    "        batch_size=128)"
   ]
  },
  {
   "cell_type": "code",
   "execution_count": 70,
   "metadata": {},
   "outputs": [],
   "source": [
    "data = DataReader(**cfg.ml100k)\n",
    "data.make_consecutive_ids_in_dataset()\n",
    "sp = Splitter()\n",
    "train, test = sp.split_leave_n_out(data, frac=0.1)"
   ]
  },
  {
   "cell_type": "code",
   "execution_count": 71,
   "metadata": {
    "scrolled": true
   },
   "outputs": [
    {
     "data": {
      "application/vnd.jupyter.widget-view+json": {
       "model_id": "0b50bd14d7f0459fb4fb99f323f627bd",
       "version_major": 2,
       "version_minor": 0
      },
      "text/plain": [
       "HBox(children=(HTML(value=''), FloatProgress(value=0.0), HTML(value='')))"
      ]
     },
     "metadata": {},
     "output_type": "display_data"
    },
    {
     "name": "stdout",
     "output_type": "stream",
     "text": [
      "\n"
     ]
    },
    {
     "data": {
      "text/plain": [
       "True"
      ]
     },
     "execution_count": 71,
     "metadata": {},
     "output_type": "execute_result"
    }
   ],
   "source": [
    "mf.fit(train)"
   ]
  },
  {
   "cell_type": "code",
   "execution_count": 72,
   "metadata": {},
   "outputs": [
    {
     "data": {
      "application/vnd.jupyter.widget-view+json": {
       "model_id": "3a32394ad0d1449a91978d18ea1852a8",
       "version_major": 2,
       "version_minor": 0
      },
      "text/plain": [
       "HBox(children=(HTML(value='Recommending for users: '), FloatProgress(value=0.0, max=943.0), HTML(value='')))"
      ]
     },
     "metadata": {},
     "output_type": "display_data"
    },
    {
     "name": "stdout",
     "output_type": "stream",
     "text": [
      "\n"
     ]
    }
   ],
   "source": [
    "rec = Recommender(train, mf)\n",
    "rec = rec.recommend_all()"
   ]
  },
  {
   "cell_type": "code",
   "execution_count": 73,
   "metadata": {},
   "outputs": [
    {
     "data": {
      "text/plain": [
       "0.0118779443072576"
      ]
     },
     "execution_count": 73,
     "metadata": {},
     "output_type": "execute_result"
    }
   ],
   "source": [
    "evaluator = Evaluator(test)\n",
    "evaluator.cal_hit_ratio(rec)"
   ]
  },
  {
   "cell_type": "code",
   "execution_count": 74,
   "metadata": {},
   "outputs": [
    {
     "data": {
      "application/vnd.jupyter.widget-view+json": {
       "model_id": "7a3597c53ad242738b05bf81bdea60ff",
       "version_major": 2,
       "version_minor": 0
      },
      "text/plain": [
       "HBox(children=(HTML(value='Computing explanations: '), FloatProgress(value=0.0, max=9430.0), HTML(value='')))"
      ]
     },
     "metadata": {},
     "output_type": "display_data"
    },
    {
     "name": "stdout",
     "output_type": "stream",
     "text": [
      "\n"
     ]
    }
   ],
   "source": [
    "ar = ARPostHocExplainer(mf, rec, train)\n",
    "expl_ar = ar.explain_recommendations()"
   ]
  },
  {
   "cell_type": "code",
   "execution_count": 76,
   "metadata": {},
   "outputs": [
    {
     "data": {
      "application/vnd.jupyter.widget-view+json": {
       "model_id": "75ccc7024e1b42ba9bdae93c91b1a57d",
       "version_major": 2,
       "version_minor": 0
      },
      "text/plain": [
       "HBox(children=(HTML(value='Computing explanations: '), FloatProgress(value=0.0, max=9430.0), HTML(value='')))"
      ]
     },
     "metadata": {},
     "output_type": "display_data"
    },
    {
     "name": "stdout",
     "output_type": "stream",
     "text": [
      "\n"
     ]
    }
   ],
   "source": [
    "knn = KNNPostHocExplainer(mf, rec, train)\n",
    "expl_knn = knn.explain_recommendations()"
   ]
  },
  {
   "cell_type": "code",
   "execution_count": 77,
   "metadata": {},
   "outputs": [],
   "source": [
    "expl_eval = ExplanationEvaluator(train.num_user)"
   ]
  },
  {
   "cell_type": "code",
   "execution_count": 78,
   "metadata": {},
   "outputs": [
    {
     "data": {
      "text/plain": [
       "0.35790031813361645"
      ]
     },
     "execution_count": 78,
     "metadata": {},
     "output_type": "execute_result"
    }
   ],
   "source": [
    "expl_eval.model_fidelity(expl_ar)"
   ]
  }
 ],
 "metadata": {
  "kernelspec": {
   "display_name": "Python 3",
   "language": "python",
   "name": "python3"
  },
  "language_info": {
   "codemirror_mode": {
    "name": "ipython",
    "version": 3
   },
   "file_extension": ".py",
   "mimetype": "text/x-python",
   "name": "python",
   "nbconvert_exporter": "python",
   "pygments_lexer": "ipython3",
   "version": "3.6.12"
  }
 },
 "nbformat": 4,
 "nbformat_minor": 4
}
