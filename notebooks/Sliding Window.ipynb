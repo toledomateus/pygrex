{
 "cells": [
  {
   "cell_type": "markdown",
   "id": "7fa3d250",
   "metadata": {},
   "source": [
    "# Imports"
   ]
  },
  {
   "cell_type": "code",
   "execution_count": 1,
   "id": "6b55c6e8",
   "metadata": {},
   "outputs": [],
   "source": [
    "# Local application/library specific imports\n",
    "from pygrex.config import cfg\n",
    "from pygrex.data_reader import DataReader, GroupInteractionHandler\n",
    "from pygrex.evaluator.sliding_window_evaluator import SlidingWindowEvaluator\n",
    "from pygrex.explain.sliding_window_explainer import SlidingWindowExplainer\n",
    "from pygrex.models.als_model import ALS\n",
    "from pygrex.recommender.group_recommender import GroupRecommender\n",
    "from pygrex.utils.sliding_window import SlidingWindow"
   ]
  },
  {
   "cell_type": "code",
   "execution_count": 2,
   "id": "adbf9967",
   "metadata": {},
   "outputs": [
    {
     "name": "stderr",
     "output_type": "stream",
     "text": [
      "c:\\Users\\usuar\\miniconda3\\envs\\pygrex-adding-stratigis\\Lib\\site-packages\\implicit\\cpu\\als.py:95: RuntimeWarning: OpenBLAS is configured to use 8 threads. It is highly recommended to disable its internal threadpool by setting the environment variable 'OPENBLAS_NUM_THREADS=1' or by calling 'threadpoolctl.threadpool_limits(1, \"blas\")'. Having OpenBLAS use a threadpool can lead to severe performance issues here.\n",
      "  check_blas_config()\n"
     ]
    },
    {
     "data": {
      "application/vnd.jupyter.widget-view+json": {
       "model_id": "e7f937a60a4f45eab62d54b5ae588141",
       "version_major": 2,
       "version_minor": 0
      },
      "text/plain": [
       "  0%|          | 0/10 [00:00<?, ?it/s]"
      ]
     },
     "metadata": {},
     "output_type": "display_data"
    }
   ],
   "source": [
    "# Read the ratings file.\n",
    "data = DataReader(**cfg.data.test)\n",
    "data.make_consecutive_ids_in_dataset()\n",
    "data.binarize(binary_threshold=1)\n",
    "\n",
    "\n",
    "# Train the recommendation model\n",
    "algo = ALS(**cfg.model.als)\n",
    "algo.fit(data)\n",
    "\n",
    "# Read the file with the group ids\n",
    "group_handler = GroupInteractionHandler(**cfg.data.groups)\n",
    "all_groups = group_handler.read_groups(\"groupsWithHighRatings5.txt\")"
   ]
  },
  {
   "cell_type": "code",
   "execution_count": 3,
   "id": "31cce69c",
   "metadata": {},
   "outputs": [
    {
     "name": "stdout",
     "output_type": "stream",
     "text": [
      "[522, 385, 234, 452, 594]\n",
      "------------------\n"
     ]
    },
    {
     "data": {
      "application/vnd.jupyter.widget-view+json": {
       "model_id": "c875659e132b470ba2bd3e328910762b",
       "version_major": 2,
       "version_minor": 0
      },
      "text/plain": [
       "  0%|          | 0/10 [00:00<?, ?it/s]"
      ]
     },
     "metadata": {},
     "output_type": "display_data"
    },
    {
     "data": {
      "application/vnd.jupyter.widget-view+json": {
       "model_id": "487f4b9022f44c08b3f1e16c3a59c048",
       "version_major": 2,
       "version_minor": 0
      },
      "text/plain": [
       "  0%|          | 0/10 [00:00<?, ?it/s]"
      ]
     },
     "metadata": {},
     "output_type": "display_data"
    },
    {
     "name": "stdout",
     "output_type": "stream",
     "text": [
      "If the group had not interacted with these items [480],\n",
      "the item of interest 919 would not have appeared on the recommendation list;\n",
      "instead, 8 would have been recommended.\n",
      "\n",
      "Explanation: [480] : found at call: 2\n",
      "1\t2\t[1.0]\t[1.0, 1.0, 1.0, 1.0, 1.0]\n",
      "[522, 385, 234, 246, 428]\n",
      "------------------\n"
     ]
    },
    {
     "data": {
      "application/vnd.jupyter.widget-view+json": {
       "model_id": "211607bfacab4b14b558e8ac1eb50c63",
       "version_major": 2,
       "version_minor": 0
      },
      "text/plain": [
       "  0%|          | 0/10 [00:00<?, ?it/s]"
      ]
     },
     "metadata": {},
     "output_type": "display_data"
    },
    {
     "data": {
      "application/vnd.jupyter.widget-view+json": {
       "model_id": "98801b6888524a7b9ec06379540c245a",
       "version_major": 2,
       "version_minor": 0
      },
      "text/plain": [
       "  0%|          | 0/10 [00:00<?, ?it/s]"
      ]
     },
     "metadata": {},
     "output_type": "display_data"
    },
    {
     "name": "stdout",
     "output_type": "stream",
     "text": [
      "If the group had not interacted with these items [260],\n",
      "the item of interest 216 would not have appeared on the recommendation list;\n",
      "instead, 35 would have been recommended.\n",
      "\n",
      "Explanation: [260] : found at call: 2\n",
      "1\t2\t[1.0]\t[1.0, 1.0, 1.0, 1.0, 1.0]\n",
      "[452, 246, 220, 586, 82]\n",
      "------------------\n"
     ]
    },
    {
     "data": {
      "application/vnd.jupyter.widget-view+json": {
       "model_id": "d5606fc6e110459f94838a6f7487c073",
       "version_major": 2,
       "version_minor": 0
      },
      "text/plain": [
       "  0%|          | 0/10 [00:00<?, ?it/s]"
      ]
     },
     "metadata": {},
     "output_type": "display_data"
    },
    {
     "data": {
      "application/vnd.jupyter.widget-view+json": {
       "model_id": "2116d97a90514826a602c7c6995f121c",
       "version_major": 2,
       "version_minor": 0
      },
      "text/plain": [
       "  0%|          | 0/10 [00:00<?, ?it/s]"
      ]
     },
     "metadata": {},
     "output_type": "display_data"
    },
    {
     "name": "stdout",
     "output_type": "stream",
     "text": [
      "If the group had not interacted with these items [2571],\n",
      "the item of interest 157 would not have appeared on the recommendation list;\n",
      "instead, 65 would have been recommended.\n",
      "\n",
      "Explanation: [2571] : found at call: 2\n",
      "1\t2\t[1.0]\t[1.0, 1.0, 1.0, 1.0, 1.0]\n",
      "[452, 246, 220, 586, 198]\n",
      "------------------\n"
     ]
    },
    {
     "data": {
      "application/vnd.jupyter.widget-view+json": {
       "model_id": "275b4dd89dd64e139ef9791c7b126c90",
       "version_major": 2,
       "version_minor": 0
      },
      "text/plain": [
       "  0%|          | 0/10 [00:00<?, ?it/s]"
      ]
     },
     "metadata": {},
     "output_type": "display_data"
    },
    {
     "data": {
      "application/vnd.jupyter.widget-view+json": {
       "model_id": "82959caaeb8e4a52b9f382b222c36a6d",
       "version_major": 2,
       "version_minor": 0
      },
      "text/plain": [
       "  0%|          | 0/10 [00:00<?, ?it/s]"
      ]
     },
     "metadata": {},
     "output_type": "display_data"
    },
    {
     "name": "stdout",
     "output_type": "stream",
     "text": [
      "If the group had not interacted with these items [2571],\n",
      "the item of interest 362 would not have appeared on the recommendation list;\n",
      "instead, 88 would have been recommended.\n",
      "\n",
      "Explanation: [2571] : found at call: 2\n",
      "1\t2\t[1.0]\t[1.0, 1.0, 1.0, 1.0, 1.0]\n",
      "[452, 246, 220, 586, 50]\n",
      "------------------\n"
     ]
    },
    {
     "data": {
      "application/vnd.jupyter.widget-view+json": {
       "model_id": "b264c7e68e82419d8ae594de235565bd",
       "version_major": 2,
       "version_minor": 0
      },
      "text/plain": [
       "  0%|          | 0/10 [00:00<?, ?it/s]"
      ]
     },
     "metadata": {},
     "output_type": "display_data"
    },
    {
     "data": {
      "application/vnd.jupyter.widget-view+json": {
       "model_id": "daa3fa0000824df88ade2eb8b60a8328",
       "version_major": 2,
       "version_minor": 0
      },
      "text/plain": [
       "  0%|          | 0/10 [00:00<?, ?it/s]"
      ]
     },
     "metadata": {},
     "output_type": "display_data"
    },
    {
     "name": "stdout",
     "output_type": "stream",
     "text": [
      "If the group had not interacted with these items [2571],\n",
      "the item of interest 349 would not have appeared on the recommendation list;\n",
      "instead, 88 would have been recommended.\n",
      "\n",
      "Explanation: [2571] : found at call: 2\n",
      "1\t2\t[1.0]\t[1.0, 1.0, 1.0, 1.0, 1.0]\n",
      "[220, 586, 73, 263, 372]\n",
      "------------------\n"
     ]
    },
    {
     "data": {
      "application/vnd.jupyter.widget-view+json": {
       "model_id": "10960dc25eb7470195f68d5390946509",
       "version_major": 2,
       "version_minor": 0
      },
      "text/plain": [
       "  0%|          | 0/10 [00:00<?, ?it/s]"
      ]
     },
     "metadata": {},
     "output_type": "display_data"
    },
    {
     "data": {
      "application/vnd.jupyter.widget-view+json": {
       "model_id": "e2716dfabee945f08b6d6ccab6093d37",
       "version_major": 2,
       "version_minor": 0
      },
      "text/plain": [
       "  0%|          | 0/10 [00:00<?, ?it/s]"
      ]
     },
     "metadata": {},
     "output_type": "display_data"
    },
    {
     "name": "stdout",
     "output_type": "stream",
     "text": [
      "If the group had not interacted with these items [318],\n",
      "the item of interest 349 would not have appeared on the recommendation list;\n",
      "instead, 65 would have been recommended.\n",
      "\n",
      "Explanation: [318] : found at call: 2\n",
      "1\t2\t[0.8]\t[1.0, 1.0, 0.0, 1.0, 1.0]\n",
      "[220, 586, 73, 263, 365]\n",
      "------------------\n"
     ]
    },
    {
     "data": {
      "application/vnd.jupyter.widget-view+json": {
       "model_id": "3d28724c23874dfab0a97266b4b7eef7",
       "version_major": 2,
       "version_minor": 0
      },
      "text/plain": [
       "  0%|          | 0/10 [00:00<?, ?it/s]"
      ]
     },
     "metadata": {},
     "output_type": "display_data"
    },
    {
     "data": {
      "application/vnd.jupyter.widget-view+json": {
       "model_id": "f574835c0d1e45b9856928c87dc71f4c",
       "version_major": 2,
       "version_minor": 0
      },
      "text/plain": [
       "  0%|          | 0/10 [00:00<?, ?it/s]"
      ]
     },
     "metadata": {},
     "output_type": "display_data"
    },
    {
     "name": "stdout",
     "output_type": "stream",
     "text": [
      "If the group had not interacted with these items [318],\n",
      "the item of interest 349 would not have appeared on the recommendation list;\n",
      "instead, 172 would have been recommended.\n",
      "\n",
      "Explanation: [318] : found at call: 2\n",
      "1\t2\t[0.8]\t[1.0, 1.0, 0.0, 1.0, 1.0]\n",
      "[220, 586, 73, 263, 6]\n",
      "------------------\n"
     ]
    },
    {
     "data": {
      "application/vnd.jupyter.widget-view+json": {
       "model_id": "6dc4dee6a1914c1198b0a357bfdee05b",
       "version_major": 2,
       "version_minor": 0
      },
      "text/plain": [
       "  0%|          | 0/10 [00:00<?, ?it/s]"
      ]
     },
     "metadata": {},
     "output_type": "display_data"
    },
    {
     "data": {
      "application/vnd.jupyter.widget-view+json": {
       "model_id": "682190a4f5404784a313a13fd2a7b48f",
       "version_major": 2,
       "version_minor": 0
      },
      "text/plain": [
       "  0%|          | 0/10 [00:00<?, ?it/s]"
      ]
     },
     "metadata": {},
     "output_type": "display_data"
    },
    {
     "name": "stdout",
     "output_type": "stream",
     "text": [
      "If the group had not interacted with these items [318],\n",
      "the item of interest 349 would not have appeared on the recommendation list;\n",
      "instead, 19 would have been recommended.\n",
      "\n",
      "Explanation: [318] : found at call: 2\n",
      "1\t2\t[0.8]\t[1.0, 1.0, 0.0, 1.0, 1.0]\n",
      "[73, 263, 563, 119, 66]\n",
      "------------------\n"
     ]
    },
    {
     "data": {
      "application/vnd.jupyter.widget-view+json": {
       "model_id": "1b58ac1c1bbd473e859233ea9e74b518",
       "version_major": 2,
       "version_minor": 0
      },
      "text/plain": [
       "  0%|          | 0/10 [00:00<?, ?it/s]"
      ]
     },
     "metadata": {},
     "output_type": "display_data"
    },
    {
     "data": {
      "application/vnd.jupyter.widget-view+json": {
       "model_id": "2e33d54fdadf4c4c8c6f6f0600481963",
       "version_major": 2,
       "version_minor": 0
      },
      "text/plain": [
       "  0%|          | 0/10 [00:00<?, ?it/s]"
      ]
     },
     "metadata": {},
     "output_type": "display_data"
    },
    {
     "name": "stdout",
     "output_type": "stream",
     "text": [
      "If the group had not interacted with these items [356],\n",
      "the item of interest 50 would not have appeared on the recommendation list;\n",
      "instead, 233 would have been recommended.\n",
      "\n",
      "Explanation: [356] : found at call: 2\n",
      "1\t2\t[0.8]\t[0.0, 1.0, 1.0, 1.0, 1.0]\n",
      "[73, 263, 563, 4, 312]\n",
      "------------------\n"
     ]
    },
    {
     "data": {
      "application/vnd.jupyter.widget-view+json": {
       "model_id": "393c9169700b4663adfc3996356ab25c",
       "version_major": 2,
       "version_minor": 0
      },
      "text/plain": [
       "  0%|          | 0/10 [00:00<?, ?it/s]"
      ]
     },
     "metadata": {},
     "output_type": "display_data"
    },
    {
     "data": {
      "application/vnd.jupyter.widget-view+json": {
       "model_id": "252c9381ca35408586944cd7d64574b1",
       "version_major": 2,
       "version_minor": 0
      },
      "text/plain": [
       "  0%|          | 0/10 [00:00<?, ?it/s]"
      ]
     },
     "metadata": {},
     "output_type": "display_data"
    },
    {
     "name": "stdout",
     "output_type": "stream",
     "text": [
      "If the group had not interacted with these items [356],\n",
      "the item of interest 235 would not have appeared on the recommendation list;\n",
      "instead, 428 would have been recommended.\n",
      "\n",
      "Explanation: [356] : found at call: 2\n",
      "1\t2\t[0.6]\t[0.0, 1.0, 1.0, 0.0, 1.0]\n",
      "[73, 263, 563, 4, 354]\n",
      "------------------\n"
     ]
    },
    {
     "data": {
      "application/vnd.jupyter.widget-view+json": {
       "model_id": "4c4df960b9d54432ba4ea383e80f1a93",
       "version_major": 2,
       "version_minor": 0
      },
      "text/plain": [
       "  0%|          | 0/10 [00:00<?, ?it/s]"
      ]
     },
     "metadata": {},
     "output_type": "display_data"
    },
    {
     "data": {
      "application/vnd.jupyter.widget-view+json": {
       "model_id": "01b9faf01f574e9fbde7aa51f9fd78f7",
       "version_major": 2,
       "version_minor": 0
      },
      "text/plain": [
       "  0%|          | 0/10 [00:00<?, ?it/s]"
      ]
     },
     "metadata": {},
     "output_type": "display_data"
    },
    {
     "name": "stdout",
     "output_type": "stream",
     "text": [
      "If the group had not interacted with these items [356],\n",
      "the item of interest 235 would not have appeared on the recommendation list;\n",
      "instead, 529 would have been recommended.\n",
      "\n",
      "Explanation: [356] : found at call: 2\n",
      "1\t2\t[0.6]\t[0.0, 1.0, 1.0, 0.0, 1.0]\n",
      "[14, 156, 45, 580, 560]\n",
      "------------------\n"
     ]
    },
    {
     "data": {
      "application/vnd.jupyter.widget-view+json": {
       "model_id": "894b5c10fc8846a78a8c33a8784a4f67",
       "version_major": 2,
       "version_minor": 0
      },
      "text/plain": [
       "  0%|          | 0/10 [00:00<?, ?it/s]"
      ]
     },
     "metadata": {},
     "output_type": "display_data"
    },
    {
     "data": {
      "application/vnd.jupyter.widget-view+json": {
       "model_id": "6f644a3354a842f881a46dbe70e1ce89",
       "version_major": 2,
       "version_minor": 0
      },
      "text/plain": [
       "  0%|          | 0/10 [00:00<?, ?it/s]"
      ]
     },
     "metadata": {},
     "output_type": "display_data"
    },
    {
     "name": "stdout",
     "output_type": "stream",
     "text": [
      "If the group had not interacted with these items [356],\n",
      "the item of interest 235 would not have appeared on the recommendation list;\n",
      "instead, 313 would have been recommended.\n",
      "\n",
      "Explanation: [356] : found at call: 2\n",
      "1\t2\t[1.0]\t[1.0, 1.0, 1.0, 1.0, 1.0]\n",
      "[14, 156, 45, 560, 318]\n",
      "------------------\n"
     ]
    },
    {
     "data": {
      "application/vnd.jupyter.widget-view+json": {
       "model_id": "885093bbc8c94c53a421da6bd422631e",
       "version_major": 2,
       "version_minor": 0
      },
      "text/plain": [
       "  0%|          | 0/10 [00:00<?, ?it/s]"
      ]
     },
     "metadata": {},
     "output_type": "display_data"
    },
    {
     "data": {
      "application/vnd.jupyter.widget-view+json": {
       "model_id": "32792a10d0d34e75a3b29a16608b608d",
       "version_major": 2,
       "version_minor": 0
      },
      "text/plain": [
       "  0%|          | 0/10 [00:00<?, ?it/s]"
      ]
     },
     "metadata": {},
     "output_type": "display_data"
    },
    {
     "name": "stdout",
     "output_type": "stream",
     "text": [
      "If the group had not interacted with these items [356],\n",
      "the item of interest 235 would not have appeared on the recommendation list;\n",
      "instead, 222 would have been recommended.\n",
      "\n",
      "Explanation: [356] : found at call: 2\n",
      "1\t2\t[1.0]\t[1.0, 1.0, 1.0, 1.0, 1.0]\n",
      "[14, 156, 45, 560, 606]\n",
      "------------------\n"
     ]
    },
    {
     "data": {
      "application/vnd.jupyter.widget-view+json": {
       "model_id": "013ad281454846488cb5c91f8c4cdd35",
       "version_major": 2,
       "version_minor": 0
      },
      "text/plain": [
       "  0%|          | 0/10 [00:00<?, ?it/s]"
      ]
     },
     "metadata": {},
     "output_type": "display_data"
    },
    {
     "data": {
      "application/vnd.jupyter.widget-view+json": {
       "model_id": "22b39922f8854ad6b5c841bece27c814",
       "version_major": 2,
       "version_minor": 0
      },
      "text/plain": [
       "  0%|          | 0/10 [00:00<?, ?it/s]"
      ]
     },
     "metadata": {},
     "output_type": "display_data"
    },
    {
     "name": "stdout",
     "output_type": "stream",
     "text": [
      "If the group had not interacted with these items [356],\n",
      "the item of interest 235 would not have appeared on the recommendation list;\n",
      "instead, 222 would have been recommended.\n",
      "\n",
      "Explanation: [356] : found at call: 2\n",
      "1\t2\t[1.0]\t[1.0, 1.0, 1.0, 1.0, 1.0]\n",
      "[14, 156, 45, 89, 28]\n",
      "------------------\n"
     ]
    },
    {
     "data": {
      "application/vnd.jupyter.widget-view+json": {
       "model_id": "051f4a4674dc47d3b567d6b25c785adb",
       "version_major": 2,
       "version_minor": 0
      },
      "text/plain": [
       "  0%|          | 0/10 [00:00<?, ?it/s]"
      ]
     },
     "metadata": {},
     "output_type": "display_data"
    },
    {
     "data": {
      "application/vnd.jupyter.widget-view+json": {
       "model_id": "45c41710f3524d4bb716fa241ef2478d",
       "version_major": 2,
       "version_minor": 0
      },
      "text/plain": [
       "  0%|          | 0/10 [00:00<?, ?it/s]"
      ]
     },
     "metadata": {},
     "output_type": "display_data"
    },
    {
     "name": "stdout",
     "output_type": "stream",
     "text": [
      "If the group had not interacted with these items [356],\n",
      "the item of interest 441 would not have appeared on the recommendation list;\n",
      "instead, 40 would have been recommended.\n",
      "\n",
      "Explanation: [356] : found at call: 2\n",
      "1\t2\t[1.0]\t[1.0, 1.0, 1.0, 1.0, 1.0]\n",
      "[14, 156, 517, 462, 448]\n",
      "------------------\n"
     ]
    },
    {
     "data": {
      "application/vnd.jupyter.widget-view+json": {
       "model_id": "f1b677232be64603896f2898e6f897dd",
       "version_major": 2,
       "version_minor": 0
      },
      "text/plain": [
       "  0%|          | 0/10 [00:00<?, ?it/s]"
      ]
     },
     "metadata": {},
     "output_type": "display_data"
    },
    {
     "data": {
      "application/vnd.jupyter.widget-view+json": {
       "model_id": "6a5a63458a64479ebb2d92af1eca1950",
       "version_major": 2,
       "version_minor": 0
      },
      "text/plain": [
       "  0%|          | 0/10 [00:00<?, ?it/s]"
      ]
     },
     "metadata": {},
     "output_type": "display_data"
    },
    {
     "name": "stdout",
     "output_type": "stream",
     "text": [
      "If the group had not interacted with these items [356],\n",
      "the item of interest 6 would not have appeared on the recommendation list;\n",
      "instead, 18 would have been recommended.\n",
      "\n",
      "Explanation: [356] : found at call: 2\n",
      "1\t2\t[1.0]\t[1.0, 1.0, 1.0, 1.0, 1.0]\n",
      "[14, 156, 517, 89, 28]\n",
      "------------------\n"
     ]
    },
    {
     "data": {
      "application/vnd.jupyter.widget-view+json": {
       "model_id": "6724f7ab13844121b17ba084316c9e6f",
       "version_major": 2,
       "version_minor": 0
      },
      "text/plain": [
       "  0%|          | 0/10 [00:00<?, ?it/s]"
      ]
     },
     "metadata": {},
     "output_type": "display_data"
    },
    {
     "data": {
      "application/vnd.jupyter.widget-view+json": {
       "model_id": "507dcf6b58f543eeadc48ee8c5257388",
       "version_major": 2,
       "version_minor": 0
      },
      "text/plain": [
       "  0%|          | 0/10 [00:00<?, ?it/s]"
      ]
     },
     "metadata": {},
     "output_type": "display_data"
    },
    {
     "name": "stdout",
     "output_type": "stream",
     "text": [
      "If the group had not interacted with these items [356],\n",
      "the item of interest 441 would not have appeared on the recommendation list;\n",
      "instead, 40 would have been recommended.\n",
      "\n",
      "Explanation: [356] : found at call: 2\n",
      "1\t2\t[1.0]\t[1.0, 1.0, 1.0, 1.0, 1.0]\n"
     ]
    }
   ],
   "source": [
    "for group in all_groups:\n",
    "    members = group_handler.get_group_members(group)\n",
    "    print(members)\n",
    "    print(\"------------------\")\n",
    "\n",
    "    group_recommender = GroupRecommender(data)\n",
    "    group_recommender.setup_recommendation(algo, members, data)\n",
    "    original_group_rec = group_recommender.get_top_recommendation()\n",
    "    # get all the items that at least one group member has interacted with\n",
    "    \n",
    "    items_rated_by_group = group_handler.get_rated_items_by_all_group_members(\n",
    "        members, data\n",
    "    )\n",
    "    \n",
    "    evaluator = SlidingWindowEvaluator(config={})\n",
    "    evaluator.set_group_recommender_values(\n",
    "        group_recommender._group_predictions, group_recommender._top_recommendation\n",
    "    )\n",
    "    # Generate ranked items\n",
    "    ranked_items = evaluator.generate_ranked_items(items_rated_by_group, data, members)\n",
    "    \n",
    "    # Create the explainer\n",
    "    explainer = SlidingWindowExplainer(\n",
    "        data=data,\n",
    "        group_handler=group_handler,\n",
    "        members=members,\n",
    "        target_item=original_group_rec,\n",
    "        candidate_items=ranked_items,\n",
    "        cfg=cfg,\n",
    "        model=algo,\n",
    "    )\n",
    "\n",
    "    sw = SlidingWindow(ranked_items, window_size=3)\n",
    "    explainer.set_sliding_window(sw)\n",
    "\n",
    "    # Find explanations\n",
    "    explanations = explainer.find_explanation()"
   ]
  },
  {
   "cell_type": "code",
   "execution_count": null,
   "id": "35c96c48",
   "metadata": {},
   "outputs": [],
   "source": []
  }
 ],
 "metadata": {
  "kernelspec": {
   "display_name": "pygrex-adding-stratigis",
   "language": "python",
   "name": "python3"
  },
  "language_info": {
   "codemirror_mode": {
    "name": "ipython",
    "version": 3
   },
   "file_extension": ".py",
   "mimetype": "text/x-python",
   "name": "python",
   "nbconvert_exporter": "python",
   "pygments_lexer": "ipython3",
   "version": "3.11.11"
  }
 },
 "nbformat": 4,
 "nbformat_minor": 5
}
